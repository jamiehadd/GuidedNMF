{
 "cells": [
  {
   "cell_type": "markdown",
   "metadata": {},
   "source": [
    "# Twitter Experiment\n",
    "### This notebook contains the code for the experiment on twitter data, with *economy* and *obamacare* seed words"
   ]
  },
  {
   "cell_type": "code",
   "execution_count": 2,
   "metadata": {},
   "outputs": [],
   "source": [
    "import torch\n",
    "import numpy as np\n",
    "from matplotlib import pyplot as plt\n",
    "\n",
    "import sys\n",
    "sys.path.append(\"../\")\n",
    "#\n",
    "import torch.nn as nn\n",
    "\n",
    "from time import time\n",
    "\n",
    "import re\n",
    "\n",
    "from sklearn.decomposition import NMF\n",
    "\n",
    "\n",
    "from nltk.corpus import stopwords\n",
    "from sklearn.datasets import fetch_20newsgroups\n",
    "from sklearn.feature_extraction.text import TfidfVectorizer\n",
    "\n",
    "import ssnmf\n",
    "from ssnmf import SSNMF"
   ]
  },
  {
   "cell_type": "markdown",
   "metadata": {},
   "source": [
    "### Function to covert list of keywords to topic vector"
   ]
  },
  {
   "cell_type": "code",
   "execution_count": 3,
   "metadata": {},
   "outputs": [],
   "source": [
    "def d_to_v(d, verbose=True):\n",
    "    \"\"\"\n",
    "    Given dictionary d of form {word: weight}, created GT topic vector v. See writeup for details.\n",
    "    \"\"\"\n",
    "    l = list(idx_to_word)\n",
    "    v = np.zeros(idx_to_word.shape[0])\n",
    "    \n",
    "    for key in d.keys():\n",
    "        i = l.index(key)\n",
    "        if(i < 0):\n",
    "            print(\"Could not find word '\" + key + \"' in list of words!\")\n",
    "        else:\n",
    "            v[i] = d[key]\n",
    "            \n",
    "    return v"
   ]
  },
  {
   "cell_type": "markdown",
   "metadata": {},
   "source": [
    "### Load Tweets Data"
   ]
  },
  {
   "cell_type": "code",
   "execution_count": 4,
   "metadata": {},
   "outputs": [],
   "source": [
    "X = np.load(\"Twitter/all_tweets.npy\", allow_pickle=True)\n",
    "idx_to_word = np.load(\"Twitter/all_tweets_words.npy\", allow_pickle=True)\n",
    "\n",
    "X = X.item().T\n",
    "\n",
    "# Apply averaging to reduce the size of X to allow for reasonable run time\n",
    "X_avg = np.mean(X.toarray()[:,:68110].reshape(28379, -1, 10), axis=2) / 10\n",
    "\n",
    "r = 8"
   ]
  },
  {
   "cell_type": "markdown",
   "metadata": {},
   "source": [
    "### Create Seed Topics and Y Matrix"
   ]
  },
  {
   "cell_type": "code",
   "execution_count": 5,
   "metadata": {},
   "outputs": [],
   "source": [
    "obamacare_word = {\"obamacare\": 1}\n",
    "economy_words = {\"economy\": 1}\n",
    "\n",
    "gt_topic_words = [obamacare_word, economy_words]\n",
    "gt_topic_vectors= [d_to_v(x) for x in gt_topic_words]\n",
    "\n",
    "Y = np.stack(gt_topic_vectors).T"
   ]
  },
  {
   "cell_type": "markdown",
   "metadata": {},
   "source": [
    "### Experiment 1: NMF on Twitter Data"
   ]
  },
  {
   "cell_type": "code",
   "execution_count": 7,
   "metadata": {},
   "outputs": [],
   "source": [
    "np.random.seed(1)\n",
    "\n",
    "model = SSNMF(X_avg.T,r)\n",
    "N=200\n",
    "model.mult(numiters = N)\n",
    "\n",
    "S = model.A.T\n",
    "A = model.S.T"
   ]
  },
  {
   "cell_type": "code",
   "execution_count": 9,
   "metadata": {},
   "outputs": [
    {
     "data": {
      "image/png": "[encoded data removed]",
      "text/plain": [
       "<Figure size 432x288 with 1 Axes>"
      ]
     },
     "metadata": {},
     "output_type": "display_data"
    },
    {
     "name": "stdout",
     "output_type": "stream",
     "text": [
      "Topic 1                Topic 2      Topic 3     Topic 4     Topic 5     Topic 6    Topic 7   Topic 8     \n",
      "-------                -------      -------     -------     -------     -------    -------   -------     \n",
      "thank                  govpencein   gopdebate   tedcruz     kasich      hillary    randpaul  fitn        \n",
      "trump2016              indiana      imwithhuck  cruz        john        trump      iowa      new         \n",
      "makeamericagreatagain  indiana_edc  jeb         cruzcrew    johnkasich  people     iacaucus  hampshire   \n",
      "great                  state        tonight     ted         ohio        donald     caucus    johnkasich  \n",
      "america                jobs         president   choosecruz  gov         president  tonight   nh          \n",
      "\n",
      "For LaTeX table...\n",
      "------------------\n",
      "thank & govpencein & gopdebate & tedcruz \\\\\n",
      "trump2016 & indiana & imwithhuck & cruz \\\\\n",
      "makeamericagreatagain & indiana_edc & jeb & cruzcrew \\\\\n",
      "great & state & tonight & ted \\\\\n",
      "america & jobs & president & choosecruz \\\\\n",
      "kasich & hillary & randpaul & fitn \\\\\n",
      "john & trump & iowa & new \\\\\n",
      "johnkasich & people & iacaucus & hampshire \\\\\n",
      "ohio & donald & caucus & johnkasich \\\\\n",
      "gov & president & tonight & nh \\\\\n"
     ]
    }
   ],
   "source": [
    "plt.imshow(S,aspect='auto',cmap='binary',interpolation='none')\n",
    "plt.show()\n",
    "\n",
    "keywords = np.empty((7,r), dtype=object)\n",
    "\n",
    "for i in range(keywords.shape[1]):\n",
    "    keywords[0,i] = \"Topic \" + str(i+1)\n",
    "    keywords[1,i] = \"-------\"\n",
    "\n",
    "for i in range(A.shape[1]):\n",
    "    col = A[:,i]\n",
    "    top = col.argsort()\n",
    "    top = top[-5:][::-1]\n",
    "\n",
    "    keywords[2:,i] = idx_to_word[top] \n",
    "\n",
    "\n",
    "col_widths = [max([len(keywords[i][j]) for i in range(keywords.shape[0])])+2 for j in range(keywords.shape[1])]\n",
    "for row in keywords:\n",
    "    print(\"\".join(row[i].ljust(col_widths[i]) for i in range(len(row))))\n",
    "    \n",
    "print(\"\")\n",
    "print(\"For LaTeX table...\")  \n",
    "print(\"------------------\")\n",
    "col_widths = [max([len(keywords[i][j]) for i in range(keywords.shape[0])])+2 for j in range(keywords.shape[1])]\n",
    "for i, row in enumerate(keywords):\n",
    "    if(i >= 2):\n",
    "        print(\" & \".join([row[i] for i in range(0,4)]) + \" \\\\\\\\\")\n",
    "for i, row in enumerate(keywords):\n",
    "    if(i >= 2):\n",
    "        print(\" & \".join([row[i] for i in range(4,8)]) + \" \\\\\\\\\")"
   ]
  },
  {
   "cell_type": "markdown",
   "metadata": {},
   "source": [
    "### Experiment 2: Guided NMF on Twitter Data"
   ]
  },
  {
   "cell_type": "code",
   "execution_count": 10,
   "metadata": {},
   "outputs": [],
   "source": [
    "np.random.seed(1)\n",
    "\n",
    "model_2 = SSNMF(X_avg.T,r,Y=Y.T,lam=0.5)\n",
    "N=200\n",
    "model_2.snmfmult(numiters = N)"
   ]
  },
  {
   "cell_type": "code",
   "execution_count": 12,
   "metadata": {},
   "outputs": [
    {
     "data": {
      "image/png": "[encoded data removed]",
      "text/plain": [
       "<Figure size 432x288 with 1 Axes>"
      ]
     },
     "metadata": {},
     "output_type": "display_data"
    },
    {
     "name": "stdout",
     "output_type": "stream",
     "text": [
      "Topic 1  Topic 2      Topic 3    Topic 4   Topic 5     Topic 6    Topic 7     Topic 8        \n",
      "-------  -------      -------    -------   -------     -------    -------     -------        \n",
      "economy  govpencein   gopdebate  tedcruz   obamacare   hillary    johnkasich  people         \n",
      "jobs     indiana      kasich     thank     fullrepeal  trump      new         need           \n",
      "tax      indiana_edc  randpaul   cruz      repeal      donald     fitn        must           \n",
      "plan     state        john       cruzcrew  replace     clinton    kasich      berniesanders  \n",
      "create   jobs         tonight    ted       fight       president  hampshire   country        \n",
      "\n",
      "For LaTeX table...\n",
      "------------------\n",
      "economy & govpencein & gopdebate & tedcruz \\\\\n",
      "jobs & indiana & kasich & thank \\\\\n",
      "tax & indiana_edc & randpaul & cruz \\\\\n",
      "plan & state & john & cruzcrew \\\\\n",
      "create & jobs & tonight & ted \\\\\n",
      "obamacare & hillary & johnkasich & people \\\\\n",
      "fullrepeal & trump & new & need \\\\\n",
      "repeal & donald & fitn & must \\\\\n",
      "replace & clinton & kasich & berniesanders \\\\\n",
      "fight & president & hampshire & country \\\\\n"
     ]
    }
   ],
   "source": [
    "S = model_2.A.T\n",
    "A = model_2.S.T\n",
    "\n",
    "plt.imshow(S,aspect='auto',cmap='binary',interpolation='none')\n",
    "plt.show()\n",
    "\n",
    "keywords = np.empty((7,r), dtype=object)\n",
    "\n",
    "for i in range(keywords.shape[1]):\n",
    "    keywords[0,i] = \"Topic \" + str(i+1)\n",
    "    keywords[1,i] = \"-------\"\n",
    "\n",
    "for i in range(A.shape[1]):\n",
    "    col = A[:,i]\n",
    "    top = col.argsort()\n",
    "    top = top[-5:][::-1]\n",
    "\n",
    "    keywords[2:,i] = idx_to_word[top] \n",
    "\n",
    "col_widths = [max([len(keywords[i][j]) for i in range(keywords.shape[0])])+2 for j in range(keywords.shape[1])]\n",
    "for row in keywords:\n",
    "    print(\"\".join(row[i].ljust(col_widths[i]) for i in range(len(row))))\n",
    "    \n",
    "print(\"\")\n",
    "print(\"For LaTeX table...\")  \n",
    "print(\"------------------\")\n",
    "col_widths = [max([len(keywords[i][j]) for i in range(keywords.shape[0])])+2 for j in range(keywords.shape[1])]\n",
    "for i, row in enumerate(keywords):\n",
    "    if(i >= 2):\n",
    "        print(\" & \".join([row[i] for i in range(0,4)]) + \" \\\\\\\\\")\n",
    "for i, row in enumerate(keywords):\n",
    "    if(i >= 2):\n",
    "        print(\" & \".join([row[i] for i in range(4,8)]) + \" \\\\\\\\\")"
   ]
  }
 ],
 "metadata": {
  "kernelspec": {
   "display_name": "Python 3",
   "language": "python",
   "name": "python3"
  },
  "language_info": {
   "codemirror_mode": {
    "name": "ipython",
    "version": 3
   },
   "file_extension": ".py",
   "mimetype": "text/x-python",
   "name": "python",
   "nbconvert_exporter": "python",
   "pygments_lexer": "ipython3",
   "version": "3.6.9"
  }
 },
 "nbformat": 4,
 "nbformat_minor": 4
}
