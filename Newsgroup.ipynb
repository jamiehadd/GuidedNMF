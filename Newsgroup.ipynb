{
 "cells": [
  {
   "cell_type": "markdown",
   "metadata": {},
   "source": [
    "# 20 Newsgroup Experiments\n",
    "### This notebook contains the experiments for the 20 newsgroup data set\n",
    "### For the results of the ablation experiment, refer to the notebook Ablation.ipynb."
   ]
  },
  {
   "cell_type": "code",
   "execution_count": 152,
   "metadata": {},
   "outputs": [],
   "source": [
    "import torch\n",
    "import numpy as np\n",
    "from matplotlib import pyplot as plt\n",
    "\n",
    "import sys\n",
    "#\n",
    "import torch.nn as nn\n",
    "\n",
    "from time import time\n",
    "\n",
    "import re\n",
    "\n",
    "from sklearn.decomposition import NMF\n",
    "\n",
    "\n",
    "from nltk.corpus import stopwords\n",
    "from sklearn.datasets import fetch_20newsgroups\n",
    "from sklearn.feature_extraction.text import TfidfVectorizer\n",
    "\n",
    "from sklearn.feature_extraction.text import CountVectorizer\n",
    "\n",
    "import ssnmf\n",
    "from ssnmf import SSNMF\n",
    "\n",
    "from sklearn.metrics import roc_curve\n",
    "from sklearn.metrics import auc\n",
    "\n",
    "import guidedlda\n",
    "\n",
    "import scipy.sparse as sparse\n",
    "\n",
    "import math"
   ]
  },
  {
   "cell_type": "markdown",
   "metadata": {},
   "source": [
    "### Function to covert list of keywords to topic vector"
   ]
  },
  {
   "cell_type": "code",
   "execution_count": 2,
   "metadata": {},
   "outputs": [],
   "source": [
    "def d_to_v(d, verbose=True):\n",
    "    \"\"\"\n",
    "    Given dictionary d of form {word: weight}, created seed topic vector v. See writeup for details.\n",
    "    \"\"\"\n",
    "    l = list(idx_to_word)\n",
    "    v = np.zeros(idx_to_word.shape[0])\n",
    "    \n",
    "    for key in d.keys():\n",
    "        i = l.index(key)\n",
    "        if(i < 0):\n",
    "            print(\"Could not find word '\" + key + \"' in list of words!\")\n",
    "        else:\n",
    "            v[i] = d[key]\n",
    "            \n",
    "    return v"
   ]
  },
  {
   "cell_type": "code",
   "execution_count": 105,
   "metadata": {},
   "outputs": [],
   "source": [
    "def mat2data(documents_text):\n",
    "    \"\"\"\n",
    "    Given a document data matrix X, convert it into a word list, \n",
    "    document index list, and word index list acceptable by the \n",
    "    SeededLDA code. \n",
    "    \"\"\"\n",
    "    \n",
    "    documents_text = documents_text\n",
    "    \n",
    "    vectorizer = CountVectorizer(stop_words=stopwords_list)\n",
    "    \n",
    "    X_data = vectorizer.fit_transform(documents_text).transpose()\n",
    "    \n",
    "    X_data.toarray()\n",
    "    \n",
    "    word_list = vectorizer.get_feature_names()\n",
    "\n",
    "    loc = sparse.find(X_data)\n",
    "    \n",
    "    i = loc[0][10]\n",
    "    j = loc[1][10]\n",
    "    \n",
    "    word_ind_list = []\n",
    "    doc_ind_list = []\n",
    "    \n",
    "    print(X_data.shape)\n",
    "    \n",
    "    for ind in range(len(loc[0])):\n",
    "        \n",
    "        word_ind = loc[0][ind]\n",
    "        doc_ind = loc[1][ind]\n",
    "        val = loc[2][ind]\n",
    "        \n",
    "        #for _ in range(val):\n",
    "        word_ind_list.append(word_ind+1)\n",
    "        doc_ind_list.append(doc_ind+1)\n",
    "\n",
    "    word_list = np.asarray([str(x) for x in word_list])\n",
    "    word_ind_list = np.asarray(word_ind_list)\n",
    "    doc_ind_list = np.asarray(doc_ind_list)\n",
    "    \n",
    "    np.savetxt(\"word_list_flat.txt\", word_list, fmt=\"%s\")\n",
    "    np.savetxt(\"word_ind_list_flat.txt\", word_ind_list, fmt=\"%d\")\n",
    "    np.savetxt(\"doc_ind_list_flat.txt\", doc_ind_list, fmt=\"%d\")\n",
    "    \n",
    "    return X_data\n",
    "            \n",
    "    "
   ]
  },
  {
   "cell_type": "code",
   "execution_count": 132,
   "metadata": {},
   "outputs": [
    {
     "name": "stdout",
     "output_type": "stream",
     "text": [
      "tensor(4)\n",
      "tensor(8)\n",
      "tensor(4)\n",
      "tensor(3)\n",
      "tensor(9)\n",
      "tensor(2)\n",
      "tensor(7)\n",
      "tensor(6)\n",
      "tensor(3)\n",
      "tensor(9)\n"
     ]
    }
   ],
   "source": [
    "for i in range(1890,1900):\n",
    "    print(Y_cleaned[i])"
   ]
  },
  {
   "cell_type": "markdown",
   "metadata": {},
   "source": [
    "## Preprocessing for 20 Newsgroup Data"
   ]
  },
  {
   "cell_type": "code",
   "execution_count": 130,
   "metadata": {},
   "outputs": [
    {
     "name": "stdout",
     "output_type": "stream",
     "text": [
      "(27706, 2000)\n"
     ]
    },
    {
     "data": {
      "text/plain": [
       "<27706x2000 sparse matrix of type '<class 'numpy.int64'>'\n",
       "\twith 125700 stored elements in Compressed Sparse Column format>"
      ]
     },
     "execution_count": 130,
     "metadata": {},
     "output_type": "execute_result"
    }
   ],
   "source": [
    "remove = ('headers','footers','quotes')\n",
    "stopwords_list = stopwords.words('english')\n",
    "stopwords_list.extend(['thanks','edu','also','would','one','could','please','really','many','anyone','good','right','get','even','want','must','something','well','much','still','said','stay','away','first','looking','things','try','take','look','make','may','include','thing','like','two','or','etc','phone','oh','email'])\n",
    "\n",
    "categories = [\n",
    " 'comp.graphics',\n",
    " 'comp.sys.mac.hardware',\n",
    " 'misc.forsale',\n",
    " 'rec.motorcycles',\n",
    " 'rec.sport.baseball',\n",
    " 'sci.med',\n",
    " 'sci.space',\n",
    " 'talk.politics.guns',\n",
    " 'talk.politics.mideast',\n",
    " 'talk.religion.misc'\n",
    " ]\n",
    "\n",
    "newsgroups_train = fetch_20newsgroups(subset='train', categories=categories, remove=remove)\n",
    "\n",
    "# remove numbers\n",
    "data_cleaned = [re.sub(r'\\d+','', file) for file in newsgroups_train.data]\n",
    "\n",
    "vectorizer = TfidfVectorizer(stop_words=stopwords_list)\n",
    "vectors = vectorizer.fit_transform(data_cleaned).transpose()\n",
    "idx_to_word = np.array(vectorizer.get_feature_names())\n",
    "\n",
    "X = vectors\n",
    "d, n = np.shape(X)\n",
    "#p = 7\n",
    "Y = np.zeros((n))\n",
    "#labels = {0:0, 1:0, 2:1, 3:1, 4:2, 5:2, 6:2}\n",
    "labels = {0:0, 1:0, 2:1, 3:2, 4:2, 5:3, 6:3, 7:4, 8:4, 9:5}\n",
    "\n",
    "for i in range(n-1):\n",
    "    label = newsgroups_train.target[i]\n",
    "    Y[i] = label\n",
    "\n",
    "X = torch.from_numpy(X.todense())\n",
    "Y = torch.from_numpy(Y).long()\n",
    "\n",
    "\n",
    "m = X.shape[0]\n",
    "k1 = 10\n",
    "k2 = 6\n",
    "\n",
    "#X = X / torch.max(X)\n",
    "# In[4]:\n",
    "sub = 200 #HOW MANY PER CLASS\n",
    "count = np.zeros((k1))\n",
    "\n",
    "data_cleaned_new = []\n",
    "Y_cleaned = []\n",
    "\n",
    "X_new = torch.zeros((X.shape[0], sub*k1))\n",
    "Y_new = torch.zeros((sub*k1)).long()\n",
    "Y_10 = torch.zeros((sub*k1)).long()\n",
    "j = 0\n",
    "for i in range(Y.shape[0]):\n",
    "    if(count[Y[i]] >= sub):\n",
    "        continue\n",
    "    count[Y[i]] += 1\n",
    "    X_new[:,j] = X[:,i]\n",
    "    Y_new[j] = labels[int(Y[i])]\n",
    "    Y_10[j] = int(Y[i])\n",
    "    j += 1\n",
    "    \n",
    "    data_cleaned_new.append(data_cleaned[i])\n",
    "    Y_cleaned.append(Y[i])\n",
    "\n",
    "X = X_new#\n",
    "Y = Y_new\n",
    "\n",
    "ind = np.argsort(Y_10)\n",
    "X = X[:,ind]\n",
    "Y = Y[ind]\n",
    "Y_10 = Y_10[ind]\n",
    "\n",
    "X = np.asarray(X)\n",
    "\n",
    "mat2data(data_cleaned_new)"
   ]
  },
  {
   "cell_type": "code",
   "execution_count": 137,
   "metadata": {},
   "outputs": [],
   "source": [
    "Y_cleaned = np.asarray(Y_cleaned)"
   ]
  },
  {
   "cell_type": "code",
   "execution_count": 139,
   "metadata": {},
   "outputs": [],
   "source": [
    "np.save(\"newgroup_labels\", Y_cleaned)"
   ]
  },
  {
   "cell_type": "markdown",
   "metadata": {},
   "source": [
    "### Create Seed Topics and Y Matrix"
   ]
  },
  {
   "cell_type": "code",
   "execution_count": 107,
   "metadata": {},
   "outputs": [],
   "source": [
    "baseball_words = {\"pitch\": 1}\n",
    "medical_words = {\"medical\": 1}\n",
    "space_words = {\"space\": 1}\n",
    "\n",
    "gt_topic_words = [baseball_words, medical_words, space_words]\n",
    "gt_topic_vectors = [d_to_v(x) for x in gt_topic_words]\n",
    "\n",
    "Y = np.stack(gt_topic_vectors).T\n",
    "\n",
    "motor_words = {\"motorcycle\": 1}\n",
    "religion_words = {\"religion\": 1}\n",
    "sale_words = {\"sale\": 1}\n",
    "\n",
    "gt_topic_words_2  = [motor_words, religion_words, sale_words]\n",
    "gt_topic_vectors_2 = [d_to_v(x) for x in gt_topic_words_2]\n",
    "\n",
    "Y_2 = np.stack(gt_topic_vectors_2).T"
   ]
  },
  {
   "cell_type": "markdown",
   "metadata": {},
   "source": [
    "## Experiment 1: Guided NMF with Baseball, Medical, and Space seed words"
   ]
  },
  {
   "cell_type": "code",
   "execution_count": 5,
   "metadata": {},
   "outputs": [],
   "source": [
    "np.random.seed(1)\n",
    "X = np.asarray(X)\n",
    "\n",
    "model_1 = SSNMF(X.T,4,Y=Y.T,lam=20)\n",
    "N=50\n",
    "model_1.snmfmult(numiters = N)"
   ]
  },
  {
   "cell_type": "code",
   "execution_count": 6,
   "metadata": {},
   "outputs": [
    {
     "name": "stdout",
     "output_type": "stream",
     "text": [
      "S Matrix:\n"
     ]
    },
    {
     "data": {
      "image/png": "[encoded data removed]",
      "text/plain": [
       "<Figure size 432x288 with 1 Axes>"
      ]
     },
     "metadata": {},
     "output_type": "display_data"
    },
    {
     "name": "stdout",
     "output_type": "stream",
     "text": [
      "Topic 1     Topic 2  Topic 3  Topic 4    \n",
      "-------     -------  -------  -------    \n",
      "medical     space    people   pitch      \n",
      "tests       nasa     know     expected   \n",
      "disease     shuttle  think    curveball  \n",
      "diseases    launch   time     stiffness  \n",
      "prejudices  sci      use      loosen     \n",
      "services    lunar    new      shoulder   \n",
      "graduates   orbit    see      shea       \n",
      "health      earth    say      rotation   \n",
      "patients    station  us       game       \n",
      "available   mission  god      giants     \n",
      "\n",
      "For LaTeX table...\n",
      "------------------------------\n",
      "medical & space & people & pitch \\\\\n",
      "tests & nasa & know & expected \\\\\n",
      "disease & shuttle & think & curveball \\\\\n",
      "diseases & launch & time & stiffness \\\\\n",
      "prejudices & sci & use & loosen \\\\\n",
      "services & lunar & new & shoulder \\\\\n",
      "graduates & orbit & see & shea \\\\\n",
      "health & earth & say & rotation \\\\\n",
      "patients & station & us & game \\\\\n",
      "available & mission & god & giants \\\\\n",
      "\n",
      "Baseball topic accuracy...   0.8415916666666667\n",
      "Medical topic accuracy...   0.7577319444444446\n",
      "Space topic accuracy...   0.8944416666666666\n"
     ]
    }
   ],
   "source": [
    "S = model_1.A.T\n",
    "A = model_1.S.T\n",
    "\n",
    "#i = [1,0,2,3]\n",
    "#A = A[:,i]\n",
    "#S = S[i]\n",
    "\n",
    "print(\"S Matrix:\")\n",
    "plt.imshow(S,aspect='auto',cmap='binary',interpolation='none')\n",
    "plt.show()\n",
    "\n",
    "keywords = np.empty((12,4), dtype=object)\n",
    "\n",
    "for i in range(keywords.shape[1]):\n",
    "    keywords[0,i] = \"Topic \" + str(i+1)\n",
    "    keywords[1,i] = \"-------\"\n",
    "\n",
    "for i in range(A.shape[1]):\n",
    "    col = A[:,i]\n",
    "    top = col.argsort()\n",
    "    top = top[-10:][::-1]\n",
    "\n",
    "    keywords[2:,i] = idx_to_word[top] \n",
    "\n",
    "col_widths = [max([len(keywords[i][j]) for i in range(keywords.shape[0])])+2 for j in range(keywords.shape[1])]\n",
    "for row in keywords:\n",
    "    print(\"\".join(row[i].ljust(col_widths[i]) for i in range(len(row))))\n",
    "\n",
    "print(\"\")\n",
    "print(\"For LaTeX table...\")\n",
    "print(\"------------------------------\")\n",
    "col_widths = [max([len(keywords[i][j]) for i in range(keywords.shape[0])])+2 for j in range(keywords.shape[1])]\n",
    "for i, row in enumerate(keywords):\n",
    "    if(i >= 2):\n",
    "        print(\" & \".join([row[i] for i in range(0,4)]) + \" \\\\\\\\\")\n",
    "    \n",
    "print(\"\")\n",
    "\n",
    "topic_order = []\n",
    "for i in range(model_1.B.shape[0]):\n",
    "    topic_order.append(np.argmax(model_1.B[i]))\n",
    "\n",
    "doc_orders = [4,5,6]\n",
    "\n",
    "names = [\"Baseball\", \"Medical\", \"Space\"]\n",
    "\n",
    "for i in range(len(topic_order)):\n",
    "    y_pred = S[topic_order[i]]\n",
    "    y_true = np.zeros(y_pred.shape[0])\n",
    "    j = doc_orders[i]\n",
    "    y_true[sub*j:sub*(j+1)] = 1\n",
    "    fpr, tpr, thresholds = roc_curve(y_true, y_pred)\n",
    "    print(names[i], \"topic accuracy...  \", auc(fpr,tpr))"
   ]
  },
  {
   "cell_type": "markdown",
   "metadata": {},
   "source": [
    "## Experiment 2: Guided NMF with Motorcycle, Forsale, and Religion seed words"
   ]
  },
  {
   "cell_type": "code",
   "execution_count": 7,
   "metadata": {},
   "outputs": [],
   "source": [
    "np.random.seed(1)\n",
    "\n",
    "model_2 = SSNMF(X.T,4,Y=Y_2.T,lam=20)\n",
    "N=50\n",
    "model_2.snmfmult(numiters = N)"
   ]
  },
  {
   "cell_type": "code",
   "execution_count": 8,
   "metadata": {},
   "outputs": [
    {
     "name": "stdout",
     "output_type": "stream",
     "text": [
      "S Matrix:\n"
     ]
    },
    {
     "data": {
      "image/png": "[encoded data removed]",
      "text/plain": [
       "<Figure size 432x288 with 1 Axes>"
      ]
     },
     "metadata": {},
     "output_type": "display_data"
    },
    {
     "name": "stdout",
     "output_type": "stream",
     "text": [
      "Topic 1    Topic 2     Topic 3     Topic 4  \n",
      "-------    -------     -------     -------  \n",
      "sale       motorcycle  religion    people   \n",
      "offer      bike        christian   know     \n",
      "condition  dod         judaism     think    \n",
      "shipping   wheelie     freedom     time     \n",
      "asking     shaft       christians  use      \n",
      "includes   bikes       islam       new      \n",
      "mb         rider       compulsion  space    \n",
      "excellent  riding      avi         see      \n",
      "price      scene       life        say      \n",
      "best       ski         gunpoint    us       \n",
      "\n",
      "For LaTeX table...\n",
      "------------------------------\n",
      "sale & motorcycle & religion & people \\\\\n",
      "offer & bike & christian & know \\\\\n",
      "condition & dod & judaism & think \\\\\n",
      "shipping & wheelie & freedom & time \\\\\n",
      "asking & shaft & christians & use \\\\\n",
      "includes & bikes & islam & new \\\\\n",
      "mb & rider & compulsion & space \\\\\n",
      "excellent & riding & avi & see \\\\\n",
      "price & scene & life & say \\\\\n",
      "best & ski & gunpoint & us \\\\\n",
      "\n",
      "Motorcycle topic accuracy...   0.8189111111111109\n",
      "Religion topic accuracy...   0.8353722222222222\n",
      "For Sale topic accuracy...   0.9224944444444445\n"
     ]
    }
   ],
   "source": [
    "S = model_2.A.T\n",
    "A = model_2.S.T\n",
    "\n",
    "#i = [1,0,2,3]\n",
    "#A = A[:,i]\n",
    "#S = S[i]\n",
    "\n",
    "print(\"S Matrix:\")\n",
    "plt.imshow(S,aspect='auto',cmap='binary',interpolation='none')\n",
    "plt.show()\n",
    "\n",
    "keywords = np.empty((12,4), dtype=object)\n",
    "\n",
    "for i in range(keywords.shape[1]):\n",
    "    keywords[0,i] = \"Topic \" + str(i+1)\n",
    "    keywords[1,i] = \"-------\"\n",
    "\n",
    "for i in range(A.shape[1]):\n",
    "    col = A[:,i]\n",
    "    top = col.argsort()\n",
    "    top = top[-10:][::-1]\n",
    "\n",
    "    keywords[2:,i] = idx_to_word[top] \n",
    "\n",
    "col_widths = [max([len(keywords[i][j]) for i in range(keywords.shape[0])])+2 for j in range(keywords.shape[1])]\n",
    "for row in keywords:\n",
    "    print(\"\".join(row[i].ljust(col_widths[i]) for i in range(len(row))))\n",
    "\n",
    "print(\"\")\n",
    "print(\"For LaTeX table...\")\n",
    "print(\"------------------------------\")\n",
    "col_widths = [max([len(keywords[i][j]) for i in range(keywords.shape[0])])+2 for j in range(keywords.shape[1])]\n",
    "for i, row in enumerate(keywords):\n",
    "    if(i >= 2):\n",
    "        print(\" & \".join([row[i] for i in range(0,4)]) + \" \\\\\\\\\")\n",
    "    \n",
    "print(\"\")\n",
    "\n",
    "topic_order = []\n",
    "for i in range(model_2.B.shape[0]):\n",
    "    topic_order.append(np.argmax(model_2.B[i]))\n",
    "\n",
    "doc_orders = [3,9,2]\n",
    "\n",
    "names = [\"Motorcycle\", \"Religion\", \"For Sale\"]\n",
    "\n",
    "for i in range(len(topic_order)):\n",
    "    y_pred = S[topic_order[i]]\n",
    "    y_true = np.zeros(y_pred.shape[0])\n",
    "    j = doc_orders[i]\n",
    "    y_true[sub*j:sub*(j+1)] = 1\n",
    "    fpr, tpr, thresholds = roc_curve(y_true, y_pred)\n",
    "    print(names[i], \"topic accuracy...  \", auc(fpr,tpr))"
   ]
  },
  {
   "cell_type": "code",
   "execution_count": 98,
   "metadata": {},
   "outputs": [],
   "source": [
    "MULT = 5\n",
    "\n",
    "X_new = X.copy()\n",
    "\n",
    "seed_words = ['space','medical','pitch']\n",
    "#seed_words = ['space']\n",
    "word2id = dict((v, idx) for idx, v in enumerate(idx_to_word))\n",
    "seed_word_ind = [word2id[word] for word in seed_words]\n",
    "\n",
    "for i in seed_word_ind:\n",
    "    X_new[i] = X_new[i] * MULT\n"
   ]
  },
  {
   "cell_type": "code",
   "execution_count": 99,
   "metadata": {},
   "outputs": [],
   "source": [
    "np.random.seed(1)\n",
    "X = np.asarray(X)\n",
    "\n",
    "model_3 = SSNMF(X_new.T,4)\n",
    "N=50\n",
    "model_3.mult(numiters = N)"
   ]
  },
  {
   "cell_type": "code",
   "execution_count": 102,
   "metadata": {},
   "outputs": [
    {
     "name": "stdout",
     "output_type": "stream",
     "text": [
      "S Matrix:\n"
     ]
    },
    {
     "data": {
      "image/png": "[encoded data removed]",
      "text/plain": [
       "<Figure size 432x288 with 1 Axes>"
      ]
     },
     "metadata": {},
     "output_type": "display_data"
    },
    {
     "name": "stdout",
     "output_type": "stream",
     "text": [
      "Topic 1     Topic 2  Topic 3  Topic 4    \n",
      "-------     -------  -------  -------    \n",
      "medical     space    people   pitch      \n",
      "tests       nasa     know     game       \n",
      "disease     shuttle  think    expected   \n",
      "diseases    launch   time     pitching   \n",
      "services    sci      use      runs       \n",
      "prejudices  lunar    new      team       \n",
      "health      orbit    god      curveball  \n",
      "graduates   earth    say      stiffness  \n",
      "available   station  see      rotation   \n",
      "patients    mission  us       games      \n",
      "\n",
      "For LaTeX table...\n",
      "------------------------------\n",
      "medical & space & people & pitch \\\\\n",
      "tests & nasa & know & game \\\\\n",
      "disease & shuttle & think & expected \\\\\n",
      "diseases & launch & time & pitching \\\\\n",
      "services & sci & use & runs \\\\\n",
      "prejudices & lunar & new & team \\\\\n",
      "health & orbit & god & curveball \\\\\n",
      "graduates & earth & say & stiffness \\\\\n",
      "available & station & see & rotation \\\\\n",
      "patients & mission & us & games \\\\\n",
      "\n",
      "Baseball topic accuracy...   0.8842444444444443\n",
      "Medical topic accuracy...   0.7782958333333334\n",
      "Space topic accuracy...   0.8955916666666667\n"
     ]
    }
   ],
   "source": [
    "S = model_3.A.T\n",
    "A = model_3.S.T\n",
    "\n",
    "#i = [1,0,2,3]\n",
    "#A = A[:,i]\n",
    "#S = S[i]\n",
    "\n",
    "print(\"S Matrix:\")\n",
    "plt.imshow(S,aspect='auto',cmap='binary',interpolation='none')\n",
    "plt.show()\n",
    "\n",
    "keywords = np.empty((12,4), dtype=object)\n",
    "\n",
    "for i in range(keywords.shape[1]):\n",
    "    keywords[0,i] = \"Topic \" + str(i+1)\n",
    "    keywords[1,i] = \"-------\"\n",
    "\n",
    "for i in range(A.shape[1]):\n",
    "    col = A[:,i]\n",
    "    top = col.argsort()\n",
    "    top = top[-10:][::-1]\n",
    "\n",
    "    keywords[2:,i] = idx_to_word[top] \n",
    "\n",
    "col_widths = [max([len(keywords[i][j]) for i in range(keywords.shape[0])])+2 for j in range(keywords.shape[1])]\n",
    "for row in keywords:\n",
    "    print(\"\".join(row[i].ljust(col_widths[i]) for i in range(len(row))))\n",
    "\n",
    "print(\"\")\n",
    "print(\"For LaTeX table...\")\n",
    "print(\"------------------------------\")\n",
    "col_widths = [max([len(keywords[i][j]) for i in range(keywords.shape[0])])+2 for j in range(keywords.shape[1])]\n",
    "for i, row in enumerate(keywords):\n",
    "    if(i >= 2):\n",
    "        print(\" & \".join([row[i] for i in range(0,4)]) + \" \\\\\\\\\")\n",
    "    \n",
    "print(\"\")\n",
    "\n",
    "topic_order = [3,0,1]\n",
    "\n",
    "doc_orders = [4,5,6]\n",
    "\n",
    "names = [\"Baseball\", \"Medical\", \"Space\"]\n",
    "\n",
    "for i in range(len(topic_order)):\n",
    "    y_pred = S[topic_order[i]]\n",
    "    y_true = np.zeros(y_pred.shape[0])\n",
    "    j = doc_orders[i]\n",
    "    y_true[sub*j:sub*(j+1)] = 1\n",
    "    fpr, tpr, thresholds = roc_curve(y_true, y_pred)\n",
    "    print(names[i], \"topic accuracy...  \", auc(fpr,tpr))"
   ]
  },
  {
   "cell_type": "markdown",
   "metadata": {},
   "source": [
    "### Ablation Experiment\n",
    "Here we run GuidedNMF on a variety of ranks and numbers of seed words. We explore these results and compare to SeededLDA in the notebook **Ablation.ipynb**."
   ]
  },
  {
   "cell_type": "code",
   "execution_count": null,
   "metadata": {},
   "outputs": [
    {
     "name": "stdout",
     "output_type": "stream",
     "text": [
      "\n",
      "Starting rank...  4\n",
      "----------------\n",
      "Starting seeds...  1\n",
      "Starting seeds...  2\n",
      "Starting seeds...  3\n",
      "Starting seeds...  4\n",
      "Starting seeds...  5\n",
      "Starting seeds...  6\n",
      "Starting seeds...  7\n",
      "Starting seeds...  8\n",
      "\n",
      "Starting rank...  5\n",
      "----------------\n",
      "Starting seeds...  1\n"
     ]
    },
    {
     "name": "stderr",
     "output_type": "stream",
     "text": [
      "/home/jvendrow/.local/lib/python3.6/site-packages/numpy/core/_asarray.py:136: VisibleDeprecationWarning: Creating an ndarray from ragged nested sequences (which is a list-or-tuple of lists-or-tuples-or ndarrays with different lengths or shapes) is deprecated. If you meant to do this, you must specify 'dtype=object' when creating the ndarray\n",
      "  return array(a, dtype, copy=False, order=order, subok=True)\n"
     ]
    },
    {
     "name": "stdout",
     "output_type": "stream",
     "text": [
      "Starting seeds...  2\n",
      "Starting seeds...  3\n",
      "Starting seeds...  4\n",
      "Starting seeds...  5\n",
      "Starting seeds...  6\n",
      "Starting seeds...  7\n",
      "Starting seeds...  8\n",
      "\n",
      "Starting rank...  6\n",
      "----------------\n",
      "Starting seeds...  1\n",
      "Starting seeds...  2\n",
      "Starting seeds...  3\n",
      "Starting seeds...  4\n",
      "Starting seeds...  5\n",
      "Starting seeds...  6\n",
      "Starting seeds...  7\n",
      "Starting seeds...  8\n",
      "\n",
      "Starting rank...  7\n",
      "----------------\n",
      "Starting seeds...  1\n",
      "Starting seeds...  2\n",
      "Starting seeds...  3\n",
      "Starting seeds...  4\n",
      "Starting seeds...  5\n",
      "Starting seeds...  6\n",
      "Starting seeds...  7\n",
      "Starting seeds...  8\n",
      "\n",
      "Starting rank...  8\n",
      "----------------\n",
      "Starting seeds...  1\n",
      "Starting seeds...  2\n",
      "Starting seeds...  3\n",
      "Starting seeds...  4\n",
      "Starting seeds...  5\n",
      "Starting seeds...  6\n"
     ]
    }
   ],
   "source": [
    "baseball_words = [\"pitch\", \"baseball\", \"team\", \"ball\", \"game\", \"season\", \"base\", \"field\", \"runs\"]\n",
    "medical_words = [\"medical\", \"disease\", \"doctor\", \"health\", \"patient\", \"medicine\", \"clinic\", \"diet\", \"tests\"]\n",
    "space_words = [\"space\", \"lunar\", \"nasa\", \"launch\", \"rocket\", \"moon\", \"shuttle\", \"orbit\", \"solar\"]\n",
    "\n",
    "models = []\n",
    "for r in range(4,11):\n",
    "    \n",
    "    models.append([])\n",
    "    \n",
    "    print(\"\")\n",
    "    print(\"Starting rank... \", r)\n",
    "    print(\"----------------\")\n",
    "    \n",
    "    for i in range(1,9):\n",
    "\n",
    "        print(\"Starting seeds... \", i)\n",
    "        \n",
    "        baseball_words_dict = {word:1 for word in baseball_words[:i]}\n",
    "        medical_words_dict = {word:1 for word in medical_words[:i]}\n",
    "        space_words_dict = {word:1 for word in space_words[:i]}\n",
    "\n",
    "        gt_topic_words = [baseball_words_dict, medical_words_dict, space_words_dict]\n",
    "        gt_topic_vectors= [d_to_v(x) for x in gt_topic_words]\n",
    "\n",
    "        Y = np.stack(gt_topic_vectors).T\n",
    "        \n",
    "        model = SSNMF(X.T,r,Y=Y.T,lam = 320 / i / r**2)\n",
    "        N=50\n",
    "        model.snmfmult(numiters = N)\n",
    "\n",
    "        models[-1].append(model)\n",
    "        np.save(\"guidednmf_models_2\", models)"
   ]
  },
  {
   "cell_type": "code",
   "execution_count": 169,
   "metadata": {},
   "outputs": [
    {
     "name": "stderr",
     "output_type": "stream",
     "text": [
      "/home/jvendrow/.local/lib/python3.6/site-packages/numpy/core/_asarray.py:136: VisibleDeprecationWarning: Creating an ndarray from ragged nested sequences (which is a list-or-tuple of lists-or-tuples-or ndarrays with different lengths or shapes) is deprecated. If you meant to do this, you must specify 'dtype=object' when creating the ndarray\n",
      "  return array(a, dtype, copy=False, order=order, subok=True)\n"
     ]
    }
   ],
   "source": [
    "#np.save(\"guidednmf_models\", models)"
   ]
  }
 ],
 "metadata": {
  "kernelspec": {
   "display_name": "Python 3",
   "language": "python",
   "name": "python3"
  },
  "language_info": {
   "codemirror_mode": {
    "name": "ipython",
    "version": 3
   },
   "file_extension": ".py",
   "mimetype": "text/x-python",
   "name": "python",
   "nbconvert_exporter": "python",
   "pygments_lexer": "ipython3",
   "version": "3.6.9"
  }
 },
 "nbformat": 4,
 "nbformat_minor": 4
}
